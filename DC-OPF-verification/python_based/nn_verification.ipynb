{
 "cells": [
  {
   "cell_type": "markdown",
   "metadata": {},
   "source": [
    "# AI-EFFECT: Formal Verification of Neural Networks\n",
    "\n",
    "This is the Jupyter Notebook for the tutorial on neural network verification at the Oslo workshop of AI-EFFECT.\n",
    "\n",
    "1. We will first show the worst-case violation, empirically found over the entire dataset.\n",
    "2. Next, we will show the worst-case violation over the continuous input domain.\n",
    "3. Finally, we show the worst-case distance to optimality.\n",
    "\n",
    "[Github link for verification](https://www.github.com/bagir/verification) \n",
    "\n",
    "`Inline code example`"
   ]
  },
  {
   "cell_type": "code",
   "execution_count": 1,
   "metadata": {},
   "outputs": [
    {
     "name": "stdout",
     "output_type": "stream",
     "text": [
      "c:\\Users\\bagir\\OneDrive - Danmarks Tekniske Universitet\\Dokumenter\\1) Projects\\3) AI Effect\\5) Verification\\DC-OPF verification\n"
     ]
    }
   ],
   "source": [
    "import os\n",
    "\n",
    "os.environ['GRB_LICENSE_FILE'] = 'C:/Users/bagir/gurobi.lic'\n",
    "\n",
    "# Get the current working directory\n",
    "parent_directory = os.path.abspath(os.path.join(os.getcwd(), \"../\"))\n",
    "print(parent_directory)\n",
    "\n",
    "# Define the cases\n",
    "case_name = 'case39_DCOPF'\n",
    "case_iter = '1'\n",
    "case_path = os.path.join(parent_directory, \"python_based\", \"test_networks\", \"network_modified\")\n",
    "\n",
    "# define the neural network\n",
    "nn_path = os.path.join(parent_directory, \"python_based\", \"trained_nns\", case_name, case_iter)\n",
    "dataset_type = 'all'"
   ]
  },
  {
   "cell_type": "markdown",
   "metadata": {},
   "source": [
    "## Empirical/Statistical Worst-Case\n",
    "\n",
    "We will first empirically evaluate the worst-case violation over the entire dataset.\n"
   ]
  },
  {
   "cell_type": "code",
   "execution_count": 11,
   "metadata": {},
   "outputs": [
    {
     "name": "stderr",
     "output_type": "stream",
     "text": [
      "c:\\Users\\bagir\\AppData\\Local\\anaconda3\\envs\\verify\\Lib\\site-packages\\pandapower\\create.py:5049: FutureWarning: The behavior of DataFrame concatenation with empty or all-NA entries is deprecated. In a future version, this will no longer exclude empty or all-NA columns when determining the result dtypes. To retain the old behavior, exclude the relevant entries before the concat operation.\n",
      "  net[table] = pd.concat([net[table], dd[dd.columns[~dd.isnull().all()]]], sort=False)\n",
      "WARNING:pandapower.converter.pypower.from_ppc:There are 11 branches which are considered as trafos - due to ratio unequal 0 or 1 - but connect same voltage levels.\n"
     ]
    },
    {
     "name": "stdout",
     "output_type": "stream",
     "text": [
      "Loaded case data successfully.\n",
      "Neural network data loaded successfully.\n",
      "The share of always active ReLUs: 22.67 %\n",
      "The share of always inactive ReLUs: 34.67 %\n",
      "\n",
      "Summary Results:\n",
      "------------------------------------------------------------\n",
      "MAE (%)                                      :       0.11\n",
      "Avg Max Generator Violation (MW)             :       1.21\n",
      "Avg Max Line Violation (MW)                  :       0.55\n",
      "Avg Distance to Optimal Setpoints (%)        :       0.49\n",
      "Avg Sub-Optimality (%)                       :       0.01\n",
      "Worst-Case Generator Violation (MW)          :      55.07\n",
      "Worst-Case Line Violation (MW)               :      50.94\n",
      "Worst-Case Distance to Optimal Setpoints (%) :       7.56\n",
      "Worst-Case Sub-Optimality (%)                :       0.63\n"
     ]
    }
   ],
   "source": [
    "import sys\n",
    "functions_path = os.path.join(parent_directory, \"python_based/functions\")\n",
    "sys.path.append(functions_path)\n",
    "\n",
    "from statistical_bound import run_dc_opf_evaluation\n",
    "\n",
    "# do the empirical evaluation of the worst-case performance of the neural network\n",
    "results_summary = run_dc_opf_evaluation(case_name, case_path, nn_path)"
   ]
  },
  {
   "cell_type": "markdown",
   "metadata": {},
   "source": [
    "## Worst-Case Over Continuous Input Domain"
   ]
  },
  {
   "cell_type": "markdown",
   "metadata": {},
   "source": [
    "Now, we will analyze what the worst-case violations are over the entire input domain, and compare them with empirically found worst-case violations.\n",
    "\n"
   ]
  },
  {
   "cell_type": "markdown",
   "metadata": {},
   "source": [
    "Do some bound tightening on the ReLUs to make the MILP easier to solve. "
   ]
  },
  {
   "cell_type": "code",
   "execution_count": 12,
   "metadata": {},
   "outputs": [
    {
     "name": "stdout",
     "output_type": "stream",
     "text": [
      "Neural network data loaded successfully.\n",
      "The share of always active ReLUs: 22.67 %\n",
      "The share of always inactive ReLUs: 34.67 %\n",
      "Set parameter Username\n",
      "Academic license - for non-commercial use only - expires 2025-05-24\n",
      "reduction:  21.170753395587894 %\n",
      "reduction:  5.957202992985689 %\n",
      "bound tightening completed!\n"
     ]
    }
   ],
   "source": [
    "from bound_tightening import DataLoader, ReluStability, ReluBoundTightening\n",
    "\n",
    "# load dataset (test, train, all)\n",
    "data_split = \"all\"\n",
    "data_loader = DataLoader(nn_path, data_split)\n",
    "nn_relu_stability = ReluStability(nn_path, 3, data_loader)\n",
    "\n",
    "# load nn and determine relu stability\n",
    "nn_tightening = ReluBoundTightening(nn_path, 3, data_loader, nn_relu_stability)"
   ]
  },
  {
   "cell_type": "code",
   "execution_count": 13,
   "metadata": {},
   "outputs": [
    {
     "name": "stderr",
     "output_type": "stream",
     "text": [
      "c:\\Users\\bagir\\AppData\\Local\\anaconda3\\envs\\verify\\Lib\\site-packages\\pandapower\\create.py:5049: FutureWarning: The behavior of DataFrame concatenation with empty or all-NA entries is deprecated. In a future version, this will no longer exclude empty or all-NA columns when determining the result dtypes. To retain the old behavior, exclude the relevant entries before the concat operation.\n",
      "  net[table] = pd.concat([net[table], dd[dd.columns[~dd.isnull().all()]]], sort=False)\n",
      "WARNING:pandapower.converter.pypower.from_ppc:There are 11 branches which are considered as trafos - due to ratio unequal 0 or 1 - but connect same voltage levels.\n"
     ]
    },
    {
     "name": "stdout",
     "output_type": "stream",
     "text": [
      "Loaded case data successfully.\n",
      "Neural network data loaded successfully.\n"
     ]
    },
    {
     "name": "stderr",
     "output_type": "stream",
     "text": [
      "c:\\Users\\bagir\\OneDrive - Danmarks Tekniske Universitet\\Dokumenter\\1) Projects\\3) AI Effect\\5) Verification\\DC-OPF verification\\python_based\\functions\\exact_bound.py:55: RuntimeWarning: Chained matrix multiplications of MVars is inefficient, collect numeric terms first when building expressions\n",
      "  self.model.addConstr(self.mpc.M_g @ gp.vstack((self.pg_slack, (self.pg_pred * self.mpc.pg_delta.reshape(-1, 1) / self.mpc.baseMVA)))\n"
     ]
    },
    {
     "name": "stdout",
     "output_type": "stream",
     "text": [
      "Solving MILP for PGMAX Violations\n",
      "0.0046160449337394015\n",
      "Generator 7, Mismatch in neural network prediction -- PGMAX\n",
      "Solving MILP for PGMIN Violations\n",
      "Solving MILP for PLINE Violations\n",
      "Branch 41, With Presolve: Mismatch in worst-case violation -- PLINE (Run: 0), Violation dcpf: 0, Violation optimization: -900.0\n",
      "Line 41: Issue with solving MILP PLINE. Solver Status: 9, Objective Value: -900.0, MIP Gap: inf\n",
      "Branch 44, With Presolve: Mismatch in worst-case violation -- PLINE (Run: 0), Violation dcpf: 0, Violation optimization: -899.960002812\n",
      "Branch 44, Without Presolve: Mismatch in worst-case violation -- PLINE (Run: 1), Violation dcpf: 0, Violation optimization: -899.960002812\n",
      "\n",
      "Worst-Case Summary:\n",
      "--------------------------------------------------\n",
      "v g time                      :      3.065\n",
      "v g wc                        :    157.621\n",
      "v g ID                        :          8\n",
      "v line time                   :     12.541\n",
      "v line wc                     :    227.530\n",
      "v line ID                     :         35\n"
     ]
    }
   ],
   "source": [
    "from exact_bound import WorstCaseAnalyzer\n",
    "\n",
    "dataset_type = 'test'\n",
    "analyzer = WorstCaseAnalyzer(case_name, case_path, nn_path, dataset_type)\n",
    "analyzer.run_analysis()"
   ]
  },
  {
   "cell_type": "markdown",
   "metadata": {},
   "source": [
    "## Distance to Optimal Solution"
   ]
  },
  {
   "cell_type": "code",
   "execution_count": 14,
   "metadata": {},
   "outputs": [
    {
     "name": "stderr",
     "output_type": "stream",
     "text": [
      "c:\\Users\\bagir\\AppData\\Local\\anaconda3\\envs\\verify\\Lib\\site-packages\\pandapower\\create.py:5049: FutureWarning: The behavior of DataFrame concatenation with empty or all-NA entries is deprecated. In a future version, this will no longer exclude empty or all-NA columns when determining the result dtypes. To retain the old behavior, exclude the relevant entries before the concat operation.\n",
      "  net[table] = pd.concat([net[table], dd[dd.columns[~dd.isnull().all()]]], sort=False)\n",
      "WARNING:pandapower.converter.pypower.from_ppc:There are 11 branches which are considered as trafos - due to ratio unequal 0 or 1 - but connect same voltage levels.\n"
     ]
    },
    {
     "name": "stdout",
     "output_type": "stream",
     "text": [
      "Loaded case data successfully.\n",
      "Neural network data loaded successfully.\n"
     ]
    },
    {
     "name": "stderr",
     "output_type": "stream",
     "text": [
      "c:\\Users\\bagir\\OneDrive - Danmarks Tekniske Universitet\\Dokumenter\\1) Projects\\3) AI Effect\\5) Verification\\DC-OPF verification\\python_based\\functions\\exact_bound.py:55: RuntimeWarning: Chained matrix multiplications of MVars is inefficient, collect numeric terms first when building expressions\n",
      "  self.model.addConstr(self.mpc.M_g @ gp.vstack((self.pg_slack, (self.pg_pred * self.mpc.pg_delta.reshape(-1, 1) / self.mpc.baseMVA)))\n"
     ]
    },
    {
     "name": "stdout",
     "output_type": "stream",
     "text": [
      "this is the max distance for generator 0:  0.018453123082550538\n",
      "KKT solution and rundcopf do match -- continue\n",
      "this is the max distance for generator 1:  0.6167372241140243\n",
      "KKT solution and rundcopf do match -- continue\n",
      "this is the max distance for generator 2:  0.4250694808632653\n",
      "KKT solution and rundcopf do match -- continue\n",
      "this is the max distance for generator 3:  0.25860979540781137\n",
      "KKT solution and rundcopf do match -- continue\n",
      "this is the max distance for generator 4:  0.22106819506141315\n",
      "KKT solution and rundcopf do match -- continue\n",
      "this is the max distance for generator 5:  0.02861096982378769\n",
      "KKT solution and rundcopf do match -- continue\n",
      "this is the max distance for generator 6:  0.15753967213828016\n",
      "KKT solution and rundcopf do match -- continue\n",
      "this is the max distance for generator 7:  0.02614087342103477\n",
      "KKT solution and rundcopf do match -- continue\n",
      "this is the max distance for generator 8:  0.1579206611482067\n",
      "KKT solution and rundcopf do match -- continue\n",
      "this is the max distance for generator 9:  0.2580630266659165\n",
      "KKT solution and rundcopf do match -- continue\n",
      "KKT solution and rundcopf do match -- continue\n",
      "\n",
      "Worst-Case Summary:\n",
      "--------------------------------------------------\n",
      "v dist time                   :     13.874\n",
      "v dist wc                     :     61.674\n",
      "v dist ID                     :          1\n",
      "v opt wc                      :      6.689\n",
      "v opt time                    :      0.840\n"
     ]
    }
   ],
   "source": [
    "from optimality_gap import SubOptimalityAnalyzer\n",
    "\n",
    "analyzer = SubOptimalityAnalyzer(case_name, case_path, nn_path, dataset_type)\n",
    "analyzer.run_analysis()"
   ]
  }
 ],
 "metadata": {
  "kernelspec": {
   "display_name": "verify",
   "language": "python",
   "name": "python3"
  },
  "language_info": {
   "codemirror_mode": {
    "name": "ipython",
    "version": 3
   },
   "file_extension": ".py",
   "mimetype": "text/x-python",
   "name": "python",
   "nbconvert_exporter": "python",
   "pygments_lexer": "ipython3",
   "version": "3.11.11"
  }
 },
 "nbformat": 4,
 "nbformat_minor": 2
}
