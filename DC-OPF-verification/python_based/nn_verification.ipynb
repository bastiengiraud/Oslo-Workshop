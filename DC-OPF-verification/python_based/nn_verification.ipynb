{
 "cells": [
  {
   "cell_type": "markdown",
   "metadata": {},
   "source": [
    "# Neural Network Verification for DC-OPF\n",
    "\n",
    "Welcome to the Jupyter Notebook for the **Neural Network Verification for DC-OPF** tutorial, presented at the **Oslo Workshop of AI-EFFECT**. In this tutorial, we focus on verifying a neural network model designed to predict solutions for the DC Optimal Power Flow (DC-OPF) problem—an essential optimization task in power system operations. The objective of the DC-OPF is to determine the optimal dispatch of generators to meet system demand, typically aiming for the most cost-efficient solution.\n",
    "\n",
    "For our neural network, the input consists of the system's load profile, and the output is the predicted generator dispatch that minimizes cost. We trained the network on 80,000 samples and tested it using 20,000 samples.\n",
    "\n",
    "Throughout this tutorial, we will assess the network's performance by examining how accurately it predicts the generator dispatch, and whether any predicted dispatches violate generator limits or line flow constraints. The analysis will proceed as follows:\n",
    "\n",
    "1. Violations on the Entire Dataset: We will begin by identifying any violations in the predictions across the complete dataset (100,000 samples).\n",
    "2. Worst-Case Violations Over the Continuous Input Domain: Next, we will explore the worst-case violations across the entire continuous input domain, demonstrating how violations can be more severe when considering all possible inputs.\n",
    "3. Worst-Case Distance to Optimality: Finally, we will evaluate the worst-case deviation from the optimal solution.\n",
    "\n",
    "These three experiments will highlight the importance of verification in neural network models, especially in critical applications like power system operations.\n",
    "\n"
   ]
  },
  {
   "cell_type": "markdown",
   "metadata": {},
   "source": [
    "### Data Loader\n",
    "\n",
    "First, we load the dataset and the trained neural network for evaluation."
   ]
  },
  {
   "cell_type": "code",
   "execution_count": 1,
   "metadata": {},
   "outputs": [
    {
     "name": "stdout",
     "output_type": "stream",
     "text": [
      "c:\\Users\\bagir\\OneDrive - Danmarks Tekniske Universitet\\Dokumenter\\1) Projects\\3) AI Effect\\5) Verification\\DC-OPF verification\n"
     ]
    }
   ],
   "source": [
    "import os\n",
    "\n",
    "os.environ['GRB_LICENSE_FILE'] = 'C:/Users/bagir/gurobi.lic'\n",
    "\n",
    "# Get the current working directory\n",
    "parent_directory = os.path.abspath(os.path.join(os.getcwd(), \"../\"))\n",
    "print(parent_directory)\n",
    "\n",
    "# Define the cases\n",
    "case_name = 'case39_DCOPF'\n",
    "case_iter = '1'\n",
    "case_path = os.path.join(parent_directory, \"python_based\", \"test_networks\", \"network_modified\")\n",
    "\n",
    "# define the neural network\n",
    "nn_path = os.path.join(parent_directory, \"python_based\", \"trained_nns\", case_name, case_iter)\n",
    "dataset_type = 'all'"
   ]
  },
  {
   "cell_type": "markdown",
   "metadata": {},
   "source": [
    "### Empirical Worst-Case Over Entire Dataset\n",
    "\n",
    "In this section, we will empirically evaluate the worst-case violations across the entire dataset.\n",
    "\n",
    "- **MAE (Mean Absolute Error) (%)**:  \n",
    "    The Mean Absolute Error (MAE) represents the average of the absolute differences between predicted and actual values, expressed as a percentage.\n",
    "\n",
    "- **Avg Max Generator Violation (MW)**:  \n",
    "    This term refers to the average generator violations (in MW) across the entire dataset, considering all the observed values.\n",
    "\n",
    "- **Avg Max Line Violation (MW)**:  \n",
    "    Similar to the generator violation, this term measures the average line flow violations (in MW) over the entire dataset.\n",
    "\n",
    "- **Avg Distance to Optimal Setpoints (%)**:  \n",
    "    This term quantifies the average distance, as a percentage, between the predicted operating points and the true optimal operating points across the dataset.\n",
    "\n",
    "- **Avg Sub-Optimality (%)**:  \n",
    "    The average sub-optimality measures the dispatch cost deviation from the optimal solution, averaged across the entire dataset.\n",
    "\n",
    "- **Worst-Case Generator Violation (MW)**:  \n",
    "    This represents the largest observed generator violation (in MW) over the entire dataset of 100,000 samples.\n",
    "\n",
    "- **Worst-Case Line Violation (MW)**:  \n",
    "    This refers to the largest observed line flow violation (in MW) over the entire dataset of 100,000 samples.\n",
    "\n",
    "- **Worst-Case Distance to Optimal Setpoints (%)**:  \n",
    "    This is the largest observed distance (in %) between the generator setpoints and the optimal setpoints across the dataset of 100,000 samples.\n",
    "\n",
    "- **Worst-Case Sub-Optimality (%)**:  \n",
    "    This refers to the largest observed sub-optimality, in terms of dispatch cost, compared to the optimal solution over the entire dataset.\n"
   ]
  },
  {
   "cell_type": "code",
   "execution_count": 2,
   "metadata": {},
   "outputs": [
    {
     "name": "stderr",
     "output_type": "stream",
     "text": [
      "c:\\Users\\bagir\\AppData\\Local\\anaconda3\\envs\\verify\\Lib\\site-packages\\pandapower\\create.py:5049: FutureWarning: The behavior of DataFrame concatenation with empty or all-NA entries is deprecated. In a future version, this will no longer exclude empty or all-NA columns when determining the result dtypes. To retain the old behavior, exclude the relevant entries before the concat operation.\n",
      "  net[table] = pd.concat([net[table], dd[dd.columns[~dd.isnull().all()]]], sort=False)\n",
      "WARNING:pandapower.converter.pypower.from_ppc:There are 11 branches which are considered as trafos - due to ratio unequal 0 or 1 - but connect same voltage levels.\n"
     ]
    },
    {
     "name": "stdout",
     "output_type": "stream",
     "text": [
      "Loaded case data successfully.\n",
      "Neural network data loaded successfully.\n",
      "\n",
      "Summary Results:\n",
      "------------------------------------------------------------\n",
      "MAE (%)                                      :       0.11\n",
      "Avg Max Generator Violation (MW)             :       1.21\n",
      "Avg Max Line Violation (MW)                  :       0.55\n",
      "Avg Distance to Optimal Setpoints (%)        :       0.49\n",
      "Avg Sub-Optimality (%)                       :       0.01\n",
      "Worst-Case Generator Violation (MW)          :      55.07\n",
      "Worst-Case Line Violation (MW)               :      50.94\n",
      "Worst-Case Distance to Optimal Setpoints (%) :       7.56\n",
      "Worst-Case Sub-Optimality (%)                :       0.63\n"
     ]
    }
   ],
   "source": [
    "import sys\n",
    "functions_path = os.path.join(parent_directory, \"python_based/functions\")\n",
    "sys.path.append(functions_path)\n",
    "\n",
    "from statistical_bound import run_dc_opf_evaluation\n",
    "\n",
    "# do the empirical evaluation of the worst-case performance of the neural network\n",
    "results_summary = run_dc_opf_evaluation(case_name, case_path, nn_path)"
   ]
  },
  {
   "cell_type": "markdown",
   "metadata": {},
   "source": [
    "### Worst-Case Violations Analysis\n",
    "\n",
    "In this section, we analyze the worst-case violations across the entire input domain to compare them with the empirically observed worst-case violations.\n",
    "\n",
    "- **v g time (s)**:  \n",
    "    This represents the time required to calculate the worst-case generator violation over the continuous input domain.\n",
    "\n",
    "- **v g wc (MW)**:  \n",
    "    This indicates the worst-case generator violation over the continuous input domain. It can be compared with the \"Worst-Case Generator Violation (MW)\" mentioned earlier.\n",
    "\n",
    "- **v g ID**:  \n",
    "    This is the index of the generator where the worst-case violation occurs.\n",
    "\n",
    "- **v line time (s)**:  \n",
    "    This represents the time needed to calculate the worst-case line flow violation over the continuous input domain.\n",
    "\n",
    "- **v line wc (MW)**:  \n",
    "    This indicates the worst-case line flow violation over the continuous input domain. It can be compared with the \"Worst-Case Line Violation (MW)\" mentioned earlier.\n",
    "\n",
    "- **v line ID**:  \n",
    "    This is the index of the line where the worst-case violation occurs.\n"
   ]
  },
  {
   "cell_type": "code",
   "execution_count": 3,
   "metadata": {},
   "outputs": [
    {
     "name": "stderr",
     "output_type": "stream",
     "text": [
      "c:\\Users\\bagir\\AppData\\Local\\anaconda3\\envs\\verify\\Lib\\site-packages\\pandapower\\create.py:5049: FutureWarning: The behavior of DataFrame concatenation with empty or all-NA entries is deprecated. In a future version, this will no longer exclude empty or all-NA columns when determining the result dtypes. To retain the old behavior, exclude the relevant entries before the concat operation.\n",
      "  net[table] = pd.concat([net[table], dd[dd.columns[~dd.isnull().all()]]], sort=False)\n",
      "WARNING:pandapower.converter.pypower.from_ppc:There are 11 branches which are considered as trafos - due to ratio unequal 0 or 1 - but connect same voltage levels.\n"
     ]
    },
    {
     "name": "stdout",
     "output_type": "stream",
     "text": [
      "Loaded case data successfully.\n",
      "Neural network data loaded successfully.\n",
      "Set parameter Username\n",
      "Academic license - for non-commercial use only - expires 2025-05-24\n"
     ]
    },
    {
     "name": "stderr",
     "output_type": "stream",
     "text": [
      "c:\\Users\\bagir\\OneDrive - Danmarks Tekniske Universitet\\Dokumenter\\1) Projects\\3) AI Effect\\5) Verification\\DC-OPF verification\\python_based/functions\\exact_bound.py:55: RuntimeWarning: Chained matrix multiplications of MVars is inefficient, collect numeric terms first when building expressions\n",
      "  self.model.addConstr(self.mpc.M_g @ gp.vstack((self.pg_slack, (self.pg_pred * self.mpc.pg_delta.reshape(-1, 1) / self.mpc.baseMVA)))\n"
     ]
    },
    {
     "name": "stdout",
     "output_type": "stream",
     "text": [
      "Solving MILP for PGMAX Violations\n",
      "Generator 7, Mismatch in neural network prediction -- PGMAX: 0.0046160449337394015\n",
      "Solving MILP for PGMIN Violations\n",
      "Solving MILP for PLINE Violations\n",
      "\n",
      "Worst-Case Summary:\n",
      "--------------------------------------------------\n",
      "v g time                      :      2.505\n",
      "v g wc                        :    157.621\n",
      "v g ID                        :          8\n",
      "v line time                   :      3.408\n",
      "v line wc                     :    227.530\n",
      "v line ID                     :         35\n"
     ]
    }
   ],
   "source": [
    "from exact_bound import WorstCaseAnalyzer\n",
    "\n",
    "dataset_type = 'test'\n",
    "analyzer = WorstCaseAnalyzer(case_name, case_path, nn_path, dataset_type)\n",
    "analyzer.run_analysis()"
   ]
  },
  {
   "cell_type": "markdown",
   "metadata": {},
   "source": [
    "### Distance to Optimal Solution\n",
    "\n",
    "In this section, we evaluate the worst-case distance to optimality and the most sub-optimal dispatch across the entire continuous input domain.\n",
    "\n",
    "- **v dist time (s)**:  \n",
    "     This represents the time required to identify the largest observed distance between the generator setpoints and the optimal setpoints across the entire input domain.\n",
    "\n",
    " - **v dist wc (%)**:  \n",
    "     This indicates the largest observed distance between the generator setpoints and the optimal setpoints over the entire input domain. It can be compared to the \"Worst-Case Distance to Optimal Setpoints.\"\n",
    "\n",
    " - **v dist ID**:  \n",
    "     This is the index of the generator where the largest distance to the optimal setpoint occurs.\n",
    "\n",
    " - **v opt time (s)**:  \n",
    "     This represents the time needed to identify the most sub-optimal dispatch, in terms of dispatch cost, across the entire input domain.\n",
    "\n",
    " - **v opt wc (%)**:  \n",
    "     This is the percentage of sub-optimality over the continuous input domain, which can be compared with the \"Worst-Case Line Violation (MW)\" mentioned above.\n"
   ]
  },
  {
   "cell_type": "code",
   "execution_count": 4,
   "metadata": {},
   "outputs": [
    {
     "name": "stderr",
     "output_type": "stream",
     "text": [
      "c:\\Users\\bagir\\AppData\\Local\\anaconda3\\envs\\verify\\Lib\\site-packages\\pandapower\\create.py:5049: FutureWarning: The behavior of DataFrame concatenation with empty or all-NA entries is deprecated. In a future version, this will no longer exclude empty or all-NA columns when determining the result dtypes. To retain the old behavior, exclude the relevant entries before the concat operation.\n",
      "  net[table] = pd.concat([net[table], dd[dd.columns[~dd.isnull().all()]]], sort=False)\n",
      "WARNING:pandapower.converter.pypower.from_ppc:There are 11 branches which are considered as trafos - due to ratio unequal 0 or 1 - but connect same voltage levels.\n"
     ]
    },
    {
     "name": "stdout",
     "output_type": "stream",
     "text": [
      "Loaded case data successfully.\n",
      "Neural network data loaded successfully.\n"
     ]
    },
    {
     "name": "stderr",
     "output_type": "stream",
     "text": [
      "c:\\Users\\bagir\\OneDrive - Danmarks Tekniske Universitet\\Dokumenter\\1) Projects\\3) AI Effect\\5) Verification\\DC-OPF verification\\python_based/functions\\exact_bound.py:55: RuntimeWarning: Chained matrix multiplications of MVars is inefficient, collect numeric terms first when building expressions\n",
      "  self.model.addConstr(self.mpc.M_g @ gp.vstack((self.pg_slack, (self.pg_pred * self.mpc.pg_delta.reshape(-1, 1) / self.mpc.baseMVA)))\n"
     ]
    },
    {
     "name": "stdout",
     "output_type": "stream",
     "text": [
      "this is the max distance for generator 0:  0.018453123082550538\n",
      "KKT solution and rundcopf do match -- continue\n",
      "this is the max distance for generator 1:  0.6167372241140243\n",
      "KKT solution and rundcopf do match -- continue\n",
      "this is the max distance for generator 2:  0.4250694808632653\n",
      "KKT solution and rundcopf do match -- continue\n",
      "this is the max distance for generator 3:  0.25860979540781137\n",
      "KKT solution and rundcopf do match -- continue\n",
      "this is the max distance for generator 4:  0.22106819506141315\n",
      "KKT solution and rundcopf do match -- continue\n",
      "this is the max distance for generator 5:  0.02861096982378769\n",
      "KKT solution and rundcopf do match -- continue\n",
      "this is the max distance for generator 6:  0.15753967213828016\n",
      "KKT solution and rundcopf do match -- continue\n",
      "this is the max distance for generator 7:  0.02614087342103477\n",
      "KKT solution and rundcopf do match -- continue\n",
      "this is the max distance for generator 8:  0.1579206611482067\n",
      "KKT solution and rundcopf do match -- continue\n",
      "this is the max distance for generator 9:  0.2580630266659165\n",
      "KKT solution and rundcopf do match -- continue\n",
      "KKT solution and rundcopf do match -- continue\n",
      "\n",
      "Worst-Case Summary:\n",
      "--------------------------------------------------\n",
      "v dist time                   :     12.891\n",
      "v dist wc                     :     61.674\n",
      "v dist ID                     :          1\n",
      "v opt wc                      :      6.689\n",
      "v opt time                    :      0.692\n"
     ]
    }
   ],
   "source": [
    "from optimality_gap import SubOptimalityAnalyzer\n",
    "\n",
    "analyzer = SubOptimalityAnalyzer(case_name, case_path, nn_path, dataset_type)\n",
    "analyzer.run_analysis()"
   ]
  }
 ],
 "metadata": {
  "kernelspec": {
   "display_name": "verify",
   "language": "python",
   "name": "python3"
  },
  "language_info": {
   "codemirror_mode": {
    "name": "ipython",
    "version": 3
   },
   "file_extension": ".py",
   "mimetype": "text/x-python",
   "name": "python",
   "nbconvert_exporter": "python",
   "pygments_lexer": "ipython3",
   "version": "3.11.11"
  }
 },
 "nbformat": 4,
 "nbformat_minor": 2
}
